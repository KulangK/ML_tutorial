{
 "cells": [
  {
   "attachments": {},
   "cell_type": "markdown",
   "metadata": {},
   "source": [
    "## Boosting"
   ]
  },
  {
   "cell_type": "code",
   "execution_count": 1,
   "metadata": {},
   "outputs": [
    {
     "data": {
      "text/html": [
       "<div>\n",
       "<style scoped>\n",
       "    .dataframe tbody tr th:only-of-type {\n",
       "        vertical-align: middle;\n",
       "    }\n",
       "\n",
       "    .dataframe tbody tr th {\n",
       "        vertical-align: top;\n",
       "    }\n",
       "\n",
       "    .dataframe thead th {\n",
       "        text-align: right;\n",
       "    }\n",
       "</style>\n",
       "<table border=\"1\" class=\"dataframe\">\n",
       "  <thead>\n",
       "    <tr style=\"text-align: right;\">\n",
       "      <th></th>\n",
       "      <th>fixed acidity</th>\n",
       "      <th>volatile acidity</th>\n",
       "      <th>citric acid</th>\n",
       "      <th>residual sugar</th>\n",
       "      <th>chlorides</th>\n",
       "      <th>free sulfur dioxide</th>\n",
       "      <th>total sulfur dioxide</th>\n",
       "      <th>density</th>\n",
       "      <th>pH</th>\n",
       "      <th>sulphates</th>\n",
       "      <th>alcohol</th>\n",
       "      <th>quality</th>\n",
       "      <th>color</th>\n",
       "    </tr>\n",
       "  </thead>\n",
       "  <tbody>\n",
       "    <tr>\n",
       "      <th>0</th>\n",
       "      <td>7.4</td>\n",
       "      <td>0.70</td>\n",
       "      <td>0.00</td>\n",
       "      <td>1.9</td>\n",
       "      <td>0.076</td>\n",
       "      <td>11.0</td>\n",
       "      <td>34.0</td>\n",
       "      <td>0.9978</td>\n",
       "      <td>3.51</td>\n",
       "      <td>0.56</td>\n",
       "      <td>9.4</td>\n",
       "      <td>5</td>\n",
       "      <td>1</td>\n",
       "    </tr>\n",
       "    <tr>\n",
       "      <th>1</th>\n",
       "      <td>7.8</td>\n",
       "      <td>0.88</td>\n",
       "      <td>0.00</td>\n",
       "      <td>2.6</td>\n",
       "      <td>0.098</td>\n",
       "      <td>25.0</td>\n",
       "      <td>67.0</td>\n",
       "      <td>0.9968</td>\n",
       "      <td>3.20</td>\n",
       "      <td>0.68</td>\n",
       "      <td>9.8</td>\n",
       "      <td>5</td>\n",
       "      <td>1</td>\n",
       "    </tr>\n",
       "    <tr>\n",
       "      <th>2</th>\n",
       "      <td>7.8</td>\n",
       "      <td>0.76</td>\n",
       "      <td>0.04</td>\n",
       "      <td>2.3</td>\n",
       "      <td>0.092</td>\n",
       "      <td>15.0</td>\n",
       "      <td>54.0</td>\n",
       "      <td>0.9970</td>\n",
       "      <td>3.26</td>\n",
       "      <td>0.65</td>\n",
       "      <td>9.8</td>\n",
       "      <td>5</td>\n",
       "      <td>1</td>\n",
       "    </tr>\n",
       "    <tr>\n",
       "      <th>3</th>\n",
       "      <td>11.2</td>\n",
       "      <td>0.28</td>\n",
       "      <td>0.56</td>\n",
       "      <td>1.9</td>\n",
       "      <td>0.075</td>\n",
       "      <td>17.0</td>\n",
       "      <td>60.0</td>\n",
       "      <td>0.9980</td>\n",
       "      <td>3.16</td>\n",
       "      <td>0.58</td>\n",
       "      <td>9.8</td>\n",
       "      <td>6</td>\n",
       "      <td>1</td>\n",
       "    </tr>\n",
       "    <tr>\n",
       "      <th>4</th>\n",
       "      <td>7.4</td>\n",
       "      <td>0.70</td>\n",
       "      <td>0.00</td>\n",
       "      <td>1.9</td>\n",
       "      <td>0.076</td>\n",
       "      <td>11.0</td>\n",
       "      <td>34.0</td>\n",
       "      <td>0.9978</td>\n",
       "      <td>3.51</td>\n",
       "      <td>0.56</td>\n",
       "      <td>9.4</td>\n",
       "      <td>5</td>\n",
       "      <td>1</td>\n",
       "    </tr>\n",
       "  </tbody>\n",
       "</table>\n",
       "</div>"
      ],
      "text/plain": [
       "   fixed acidity  volatile acidity  citric acid  residual sugar  chlorides  \\\n",
       "0            7.4              0.70         0.00             1.9      0.076   \n",
       "1            7.8              0.88         0.00             2.6      0.098   \n",
       "2            7.8              0.76         0.04             2.3      0.092   \n",
       "3           11.2              0.28         0.56             1.9      0.075   \n",
       "4            7.4              0.70         0.00             1.9      0.076   \n",
       "\n",
       "   free sulfur dioxide  total sulfur dioxide  density    pH  sulphates  \\\n",
       "0                 11.0                  34.0   0.9978  3.51       0.56   \n",
       "1                 25.0                  67.0   0.9968  3.20       0.68   \n",
       "2                 15.0                  54.0   0.9970  3.26       0.65   \n",
       "3                 17.0                  60.0   0.9980  3.16       0.58   \n",
       "4                 11.0                  34.0   0.9978  3.51       0.56   \n",
       "\n",
       "   alcohol  quality  color  \n",
       "0      9.4        5      1  \n",
       "1      9.8        5      1  \n",
       "2      9.8        5      1  \n",
       "3      9.8        6      1  \n",
       "4      9.4        5      1  "
      ]
     },
     "execution_count": 1,
     "metadata": {},
     "output_type": "execute_result"
    }
   ],
   "source": [
    "# 와인 데이터 읽어오기\n",
    "\n",
    "import pandas as pd\n",
    "\n",
    "wine_url = 'https://raw.githubusercontent.com/PinkWink/ML_tutorial/master/dataset/wine.csv'\n",
    "\n",
    "wine = pd.read_csv(wine_url, index_col = 0)\n",
    "wine.head()"
   ]
  },
  {
   "cell_type": "code",
   "execution_count": 2,
   "metadata": {},
   "outputs": [],
   "source": [
    "# 와인데이터 맛 컬럼 생성 후 훈련/답 데이터 분리\n",
    "\n",
    "wine['taste'] = [1. if grade > 5 else 0. for grade in wine['quality']]\n",
    "\n",
    "X = wine.drop(['taste', 'quality'], axis = 1)\n",
    "y = wine['taste']"
   ]
  },
  {
   "cell_type": "code",
   "execution_count": 3,
   "metadata": {},
   "outputs": [],
   "source": [
    "# StandardScalar 적용\n",
    "\n",
    "from sklearn.preprocessing import StandardScaler\n",
    "\n",
    "sc = StandardScaler()\n",
    "X_sc = sc.fit_transform(X)"
   ]
  },
  {
   "cell_type": "code",
   "execution_count": 4,
   "metadata": {},
   "outputs": [],
   "source": [
    "# 훈련 / 검증 데이터 분리\n",
    "\n",
    "from sklearn.model_selection import train_test_split\n",
    "\n",
    "X_train, X_test, y_train, y_test = train_test_split(X_sc, y, test_size=0.2, random_state=13)"
   ]
  },
  {
   "cell_type": "code",
   "execution_count": 5,
   "metadata": {},
   "outputs": [
    {
     "data": {
      "image/png": "[encoded data removed]",
      "text/plain": [
       "<Figure size 1500x1000 with 16 Axes>"
      ]
     },
     "metadata": {},
     "output_type": "display_data"
    }
   ],
   "source": [
    "# 모든 컬럼 히스토그램 확인\n",
    "\n",
    "import matplotlib.pyplot as plt\n",
    "\n",
    "wine.hist(bins=10, figsize=(15,10))\n",
    "plt.show()"
   ]
  },
  {
   "cell_type": "code",
   "execution_count": 6,
   "metadata": {},
   "outputs": [
    {
     "data": {
      "text/plain": [
       "Index(['fixed acidity', 'volatile acidity', 'citric acid', 'residual sugar',\n",
       "       'chlorides', 'free sulfur dioxide', 'total sulfur dioxide', 'density',\n",
       "       'pH', 'sulphates', 'alcohol', 'quality', 'color', 'taste'],\n",
       "      dtype='object')"
      ]
     },
     "execution_count": 6,
     "metadata": {},
     "output_type": "execute_result"
    }
   ],
   "source": [
    "wine.columns"
   ]
  },
  {
   "cell_type": "code",
   "execution_count": 7,
   "metadata": {},
   "outputs": [
    {
     "name": "stdout",
     "output_type": "stream",
     "text": [
      "         alcohol  chlorides  citric acid   density  fixed acidity  \\\n",
      "quality                                                             \n",
      "3          10.15     0.0550         0.33  0.995900           7.45   \n",
      "4          10.00     0.0505         0.26  0.994995           7.00   \n",
      "5           9.60     0.0530         0.30  0.996100           7.10   \n",
      "6          10.50     0.0460         0.31  0.994700           6.90   \n",
      "7          11.40     0.0390         0.32  0.992400           6.90   \n",
      "8          12.00     0.0370         0.32  0.991890           6.80   \n",
      "9          12.50     0.0310         0.36  0.990300           7.10   \n",
      "\n",
      "         free sulfur dioxide     pH  residual sugar  sulphates  \\\n",
      "quality                                                          \n",
      "3                       17.0  3.245            3.15      0.505   \n",
      "4                       15.0  3.220            2.20      0.485   \n",
      "5                       27.0  3.190            3.00      0.500   \n",
      "6                       29.0  3.210            3.10      0.510   \n",
      "7                       30.0  3.220            2.80      0.520   \n",
      "8                       34.0  3.230            4.10      0.480   \n",
      "9                       28.0  3.280            2.20      0.460   \n",
      "\n",
      "         total sulfur dioxide  volatile acidity  \n",
      "quality                                          \n",
      "3                       102.5             0.415  \n",
      "4                       102.0             0.380  \n",
      "5                       127.0             0.330  \n",
      "6                       117.0             0.270  \n",
      "7                       114.0             0.270  \n",
      "8                       118.0             0.280  \n",
      "9                       119.0             0.270  \n"
     ]
    }
   ],
   "source": [
    "# quality 별 다른 특성 확인\n",
    "\n",
    "column_names = ['fixed acidity', 'volatile acidity', 'citric acid', 'residual sugar',\n",
    "       'chlorides', 'free sulfur dioxide', 'total sulfur dioxide', 'density',\n",
    "       'pH', 'sulphates', 'alcohol']\n",
    "\n",
    "df_pivot_table = wine.pivot_table(column_names, ['quality'], aggfunc='median')\n",
    "\n",
    "print(df_pivot_table)"
   ]
  },
  {
   "cell_type": "code",
   "execution_count": 8,
   "metadata": {},
   "outputs": [
    {
     "name": "stdout",
     "output_type": "stream",
     "text": [
      "quality                 1.000000\n",
      "taste                   0.814484\n",
      "alcohol                 0.444319\n",
      "citric acid             0.085532\n",
      "free sulfur dioxide     0.055463\n",
      "sulphates               0.038485\n",
      "pH                      0.019506\n",
      "residual sugar         -0.036980\n",
      "total sulfur dioxide   -0.041385\n",
      "fixed acidity          -0.076743\n",
      "color                  -0.119323\n",
      "chlorides              -0.200666\n",
      "volatile acidity       -0.265699\n",
      "density                -0.305858\n",
      "Name: quality, dtype: float64\n"
     ]
    }
   ],
   "source": [
    "# quality에 대한 나머지 특성들의 상관관계 확인\n",
    "\n",
    "corr_matrix = wine.corr()\n",
    "print(corr_matrix['quality'].sort_values(ascending=False))"
   ]
  },
  {
   "cell_type": "code",
   "execution_count": 9,
   "metadata": {},
   "outputs": [
    {
     "data": {
      "text/plain": [
       "<Axes: xlabel='taste', ylabel='count'>"
      ]
     },
     "execution_count": 9,
     "metadata": {},
     "output_type": "execute_result"
    },
    {
     "data": {
      "image/png": "[encoded data removed]",
      "text/plain": [
       "<Figure size 640x480 with 1 Axes>"
      ]
     },
     "metadata": {},
     "output_type": "display_data"
    }
   ],
   "source": [
    "# taste 컬럼의 분포\n",
    "\n",
    "import seaborn as sns\n",
    "\n",
    "sns.countplot(data = wine, x= 'taste')"
   ]
  },
  {
   "cell_type": "code",
   "execution_count": 10,
   "metadata": {},
   "outputs": [],
   "source": [
    "# 다양한 모델 한번에 테스트 위한 준비\n",
    "\n",
    "from sklearn.ensemble import (AdaBoostClassifier, GradientBoostingClassifier, RandomForestClassifier)\n",
    "from sklearn.tree import DecisionTreeClassifier\n",
    "from sklearn.linear_model import LogisticRegression\n",
    "\n",
    "models = []\n",
    "models.append(('RandomForestClassifier', RandomForestClassifier()))\n",
    "models.append(('DecisionTreeClassifier', DecisionTreeClassifier()))\n",
    "models.append(('AdaBoostClassifier', AdaBoostClassifier()))\n",
    "models.append(('GradientBoostingClassifier', GradientBoostingClassifier()))\n",
    "models.append(('LogisticRegression', LogisticRegression()))"
   ]
  },
  {
   "cell_type": "code",
   "execution_count": 11,
   "metadata": {},
   "outputs": [
    {
     "name": "stdout",
     "output_type": "stream",
     "text": [
      "RandomForestClassifier 0.8216211964166729 0.020351437766489174\n",
      "DecisionTreeClassifier 0.7579340342044866 0.011623178136727835\n",
      "AdaBoostClassifier 0.7533103205745169 0.02644765901536818\n",
      "GradientBoostingClassifier 0.7663959428444511 0.021596556352125432\n",
      "LogisticRegression 0.74273191678389 0.015548839626296565\n"
     ]
    }
   ],
   "source": [
    "# 결과 저장 위한 작업\n",
    "\n",
    "from sklearn.model_selection import KFold, cross_val_score\n",
    "\n",
    "results = []\n",
    "names = []\n",
    "\n",
    "for name, model in models:\n",
    "    kfold = KFold(n_splits=5, random_state=13, shuffle=True)\n",
    "    cv_results = cross_val_score(model, X_train, y_train,\n",
    "                                 cv=kfold, scoring='accuracy')\n",
    "    results.append(cv_results)\n",
    "    names.append(name)\n",
    "\n",
    "    print(name, cv_results.mean(), cv_results.std())"
   ]
  },
  {
   "cell_type": "code",
   "execution_count": 12,
   "metadata": {},
   "outputs": [
    {
     "data": {
      "image/png": "[encoded data removed]",
      "text/plain": [
       "<Figure size 1400x800 with 1 Axes>"
      ]
     },
     "metadata": {},
     "output_type": "display_data"
    }
   ],
   "source": [
    "# cross_validation boxplot으로 확인하기\n",
    "\n",
    "fig = plt.figure(figsize=(14, 8))\n",
    "\n",
    "fig.suptitle('Algorithm Comparison')\n",
    "ax = fig.add_subplot(111)\n",
    "\n",
    "plt.boxplot(results)\n",
    "ax.set_xticklabels(names)\n",
    "plt.show()"
   ]
  },
  {
   "cell_type": "code",
   "execution_count": 13,
   "metadata": {},
   "outputs": [
    {
     "name": "stdout",
     "output_type": "stream",
     "text": [
      "RandomForestClassifier 0.8353846153846154\n",
      "DecisionTreeClassifier 0.7830769230769231\n",
      "AdaBoostClassifier 0.7553846153846154\n",
      "GradientBoostingClassifier 0.7876923076923077\n",
      "LogisticRegression 0.7469230769230769\n"
     ]
    }
   ],
   "source": [
    "# 테스트 데이터에 대한 평가 결과\n",
    "\n",
    "from sklearn.metrics import accuracy_score\n",
    "\n",
    "for name, model in models:\n",
    "    model.fit(X_train, y_train)\n",
    "    pred = model.predict(X_test)\n",
    "    print(name, accuracy_score(y_test, pred))"
   ]
  },
  {
   "attachments": {},
   "cell_type": "markdown",
   "metadata": {},
   "source": [
    "## kNN (k Nearest Neighbors)"
   ]
  },
  {
   "cell_type": "code",
   "execution_count": 14,
   "metadata": {},
   "outputs": [],
   "source": [
    "# iris 데이터 읽기\n",
    "\n",
    "from sklearn.datasets import load_iris\n",
    "\n",
    "iris = load_iris()"
   ]
  },
  {
   "cell_type": "code",
   "execution_count": 15,
   "metadata": {},
   "outputs": [],
   "source": [
    "# 데이터 분할 (훈련 / 검증)\n",
    "\n",
    "from sklearn.model_selection import train_test_split\n",
    "\n",
    "X_train, X_test, y_train, y_test = train_test_split(iris.data, iris.target, test_size = 0.2,\n",
    "                                                    random_state=13, stratify=iris.target)"
   ]
  },
  {
   "cell_type": "code",
   "execution_count": 16,
   "metadata": {},
   "outputs": [
    {
     "data": {
      "text/html": [
       "<style>#sk-container-id-1 {color: black;background-color: white;}#sk-container-id-1 pre{padding: 0;}#sk-container-id-1 div.sk-toggleable {background-color: white;}#sk-container-id-1 label.sk-toggleable__label {cursor: pointer;display: block;width: 100%;margin-bottom: 0;padding: 0.3em;box-sizing: border-box;text-align: center;}#sk-container-id-1 label.sk-toggleable__label-arrow:before {content: \"▸\";float: left;margin-right: 0.25em;color: #696969;}#sk-container-id-1 label.sk-toggleable__label-arrow:hover:before {color: black;}#sk-container-id-1 div.sk-estimator:hover label.sk-toggleable__label-arrow:before {color: black;}#sk-container-id-1 div.sk-toggleable__content {max-height: 0;max-width: 0;overflow: hidden;text-align: left;background-color: #f0f8ff;}#sk-container-id-1 div.sk-toggleable__content pre {margin: 0.2em;color: black;border-radius: 0.25em;background-color: #f0f8ff;}#sk-container-id-1 input.sk-toggleable__control:checked~div.sk-toggleable__content {max-height: 200px;max-width: 100%;overflow: auto;}#sk-container-id-1 input.sk-toggleable__control:checked~label.sk-toggleable__label-arrow:before {content: \"▾\";}#sk-container-id-1 div.sk-estimator input.sk-toggleable__control:checked~label.sk-toggleable__label {background-color: #d4ebff;}#sk-container-id-1 div.sk-label input.sk-toggleable__control:checked~label.sk-toggleable__label {background-color: #d4ebff;}#sk-container-id-1 input.sk-hidden--visually {border: 0;clip: rect(1px 1px 1px 1px);clip: rect(1px, 1px, 1px, 1px);height: 1px;margin: -1px;overflow: hidden;padding: 0;position: absolute;width: 1px;}#sk-container-id-1 div.sk-estimator {font-family: monospace;background-color: #f0f8ff;border: 1px dotted black;border-radius: 0.25em;box-sizing: border-box;margin-bottom: 0.5em;}#sk-container-id-1 div.sk-estimator:hover {background-color: #d4ebff;}#sk-container-id-1 div.sk-parallel-item::after {content: \"\";width: 100%;border-bottom: 1px solid gray;flex-grow: 1;}#sk-container-id-1 div.sk-label:hover label.sk-toggleable__label {background-color: #d4ebff;}#sk-container-id-1 div.sk-serial::before {content: \"\";position: absolute;border-left: 1px solid gray;box-sizing: border-box;top: 0;bottom: 0;left: 50%;z-index: 0;}#sk-container-id-1 div.sk-serial {display: flex;flex-direction: column;align-items: center;background-color: white;padding-right: 0.2em;padding-left: 0.2em;position: relative;}#sk-container-id-1 div.sk-item {position: relative;z-index: 1;}#sk-container-id-1 div.sk-parallel {display: flex;align-items: stretch;justify-content: center;background-color: white;position: relative;}#sk-container-id-1 div.sk-item::before, #sk-container-id-1 div.sk-parallel-item::before {content: \"\";position: absolute;border-left: 1px solid gray;box-sizing: border-box;top: 0;bottom: 0;left: 50%;z-index: -1;}#sk-container-id-1 div.sk-parallel-item {display: flex;flex-direction: column;z-index: 1;position: relative;background-color: white;}#sk-container-id-1 div.sk-parallel-item:first-child::after {align-self: flex-end;width: 50%;}#sk-container-id-1 div.sk-parallel-item:last-child::after {align-self: flex-start;width: 50%;}#sk-container-id-1 div.sk-parallel-item:only-child::after {width: 0;}#sk-container-id-1 div.sk-dashed-wrapped {border: 1px dashed gray;margin: 0 0.4em 0.5em 0.4em;box-sizing: border-box;padding-bottom: 0.4em;background-color: white;}#sk-container-id-1 div.sk-label label {font-family: monospace;font-weight: bold;display: inline-block;line-height: 1.2em;}#sk-container-id-1 div.sk-label-container {text-align: center;}#sk-container-id-1 div.sk-container {/* jupyter's `normalize.less` sets `[hidden] { display: none; }` but bootstrap.min.css set `[hidden] { display: none !important; }` so we also need the `!important` here to be able to override the default hidden behavior on the sphinx rendered scikit-learn.org. See: https://github.com/scikit-learn/scikit-learn/issues/21755 */display: inline-block !important;position: relative;}#sk-container-id-1 div.sk-text-repr-fallback {display: none;}</style><div id=\"sk-container-id-1\" class=\"sk-top-container\"><div class=\"sk-text-repr-fallback\"><pre>KNeighborsClassifier()</pre><b>In a Jupyter environment, please rerun this cell to show the HTML representation or trust the notebook. <br />On GitHub, the HTML representation is unable to render, please try loading this page with nbviewer.org.</b></div><div class=\"sk-container\" hidden><div class=\"sk-item\"><div class=\"sk-estimator sk-toggleable\"><input class=\"sk-toggleable__control sk-hidden--visually\" id=\"sk-estimator-id-1\" type=\"checkbox\" checked><label for=\"sk-estimator-id-1\" class=\"sk-toggleable__label sk-toggleable__label-arrow\">KNeighborsClassifier</label><div class=\"sk-toggleable__content\"><pre>KNeighborsClassifier()</pre></div></div></div></div></div>"
      ],
      "text/plain": [
       "KNeighborsClassifier()"
      ]
     },
     "execution_count": 16,
     "metadata": {},
     "output_type": "execute_result"
    }
   ],
   "source": [
    "# kNN 학습\n",
    "\n",
    "from sklearn.neighbors import KNeighborsClassifier\n",
    "\n",
    "knn = KNeighborsClassifier(n_neighbors=5)\n",
    "knn.fit(X_train, y_train)"
   ]
  },
  {
   "cell_type": "code",
   "execution_count": 17,
   "metadata": {},
   "outputs": [
    {
     "name": "stdout",
     "output_type": "stream",
     "text": [
      "0.9666666666666667\n"
     ]
    }
   ],
   "source": [
    "# kNN prediction\n",
    "\n",
    "from sklearn.metrics import accuracy_score\n",
    "\n",
    "pred = knn.predict(X_test)\n",
    "print(accuracy_score(y_test, pred))"
   ]
  },
  {
   "cell_type": "code",
   "execution_count": 18,
   "metadata": {},
   "outputs": [
    {
     "name": "stdout",
     "output_type": "stream",
     "text": [
      "[[10  0  0]\n",
      " [ 0  9  1]\n",
      " [ 0  0 10]]\n",
      "              precision    recall  f1-score   support\n",
      "\n",
      "           0       1.00      1.00      1.00        10\n",
      "           1       1.00      0.90      0.95        10\n",
      "           2       0.91      1.00      0.95        10\n",
      "\n",
      "    accuracy                           0.97        30\n",
      "   macro avg       0.97      0.97      0.97        30\n",
      "weighted avg       0.97      0.97      0.97        30\n",
      "\n"
     ]
    }
   ],
   "source": [
    "# confusion matrix & classification report\n",
    "\n",
    "from sklearn.metrics import classification_report, confusion_matrix\n",
    "\n",
    "print(confusion_matrix(y_test, pred))\n",
    "print(classification_report(y_test, pred))"
   ]
  },
  {
   "attachments": {},
   "cell_type": "markdown",
   "metadata": {},
   "source": [
    "## GBM, XGBoost, LGBM"
   ]
  },
  {
   "cell_type": "code",
   "execution_count": 19,
   "metadata": {},
   "outputs": [],
   "source": [
    "# HAR 데이터 읽기\n",
    "\n",
    "import pandas as pd\n",
    "\n",
    "url = 'https://raw.githubusercontent.com/PinkWink/ML_tutorial/master/dataset/HAR_dataset/features.txt'\n",
    "\n",
    "feature_name_df = pd.read_csv(url, sep='\\s+', header=None, names= ['column_index', 'column_name'])\n",
    "\n",
    "feature_name = feature_name_df.iloc[:, 1].values.tolist()\n",
    "\n",
    "X_train_url = 'https://raw.githubusercontent.com/PinkWink/ML_tutorial/' + \\\n",
    "              'master/dataset/HAR_dataset/train/X_train.txt'\n",
    "X_test_url = 'https://raw.githubusercontent.com/PinkWink/ML_tutorial/' + \\\n",
    "             'master/dataset/HAR_dataset/test/X_test.txt'\n",
    "\n",
    "X_train = pd.read_csv(X_train_url, sep='\\s+', header=None)\n",
    "X_test = pd.read_csv(X_test_url, sep='\\s+', header=None)\n",
    "X_train.columns = feature_name\n",
    "X_test.columns = feature_name"
   ]
  },
  {
   "cell_type": "code",
   "execution_count": 20,
   "metadata": {},
   "outputs": [],
   "source": [
    "y_train_url = 'https://raw.githubusercontent.com/PinkWink/ML_tutorial/' + \\\n",
    "              'master/dataset/HAR_dataset/train/y_train.txt'\n",
    "y_test_url = 'https://raw.githubusercontent.com/PinkWink/ML_tutorial/' + \\\n",
    "             'master/dataset/HAR_dataset/test/y_test.txt'\n",
    "\n",
    "y_train = pd.read_csv(y_train_url, sep='\\s+', header=None, names=['action'])\n",
    "y_test = pd.read_csv(y_test_url, sep='\\s+', header=None, names=['action'])"
   ]
  },
  {
   "attachments": {},
   "cell_type": "markdown",
   "metadata": {},
   "source": [
    "### GBM 사용해보기"
   ]
  },
  {
   "cell_type": "code",
   "execution_count": 21,
   "metadata": {},
   "outputs": [],
   "source": [
    "from sklearn.ensemble import GradientBoostingClassifier\n",
    "from sklearn.metrics import accuracy_score\n",
    "import time\n",
    "import warnings\n",
    "\n",
    "warnings.filterwarnings('ignore')"
   ]
  },
  {
   "cell_type": "code",
   "execution_count": 22,
   "metadata": {},
   "outputs": [
    {
     "name": "stdout",
     "output_type": "stream",
     "text": [
      "ACC:  0.9385816084153377\n",
      "Fit time:  822.5461094379425\n"
     ]
    }
   ],
   "source": [
    "start_time = time.time()\n",
    "\n",
    "gb_clf = GradientBoostingClassifier(random_state=13)\n",
    "gb_clf.fit(X_train, y_train)\n",
    "gb_pred = gb_clf.predict(X_test)\n",
    "\n",
    "print('ACC: ', accuracy_score(y_test, gb_pred))\n",
    "print('Fit time: ', time.time() - start_time)"
   ]
  },
  {
   "cell_type": "code",
   "execution_count": null,
   "metadata": {},
   "outputs": [],
   "source": [
    "# GridSearchCV 적용 >> 40분 넘게 걸림\n",
    "\n",
    "from sklearn.model_selection import GridSearchCV\n",
    "\n",
    "params = {\n",
    "    'n_estimators' : [100, 500],\n",
    "    'learning_rate' : [0.05, 0.1]\n",
    "}\n",
    "\n",
    "start_time = time.time()\n",
    "\n",
    "grid = GridSearchCV(gb_clf, param_grid=params, cv=2, verbose=1, n_jobs = 4)\n",
    "grid.fit(X_train, y_train)\n",
    "\n",
    "print('Fit time: ', time.time() - start_time)"
   ]
  },
  {
   "cell_type": "code",
   "execution_count": 27,
   "metadata": {},
   "outputs": [
    {
     "name": "stdout",
     "output_type": "stream",
     "text": [
      "Collecting xgboost\n",
      "  Downloading xgboost-1.7.6-py3-none-win_amd64.whl (70.9 MB)\n",
      "     ---------------------------------------- 0.0/70.9 MB ? eta -:--:--\n",
      "     - -------------------------------------- 1.9/70.9 MB 40.3 MB/s eta 0:00:02\n",
      "     -- ------------------------------------- 4.5/70.9 MB 47.6 MB/s eta 0:00:02\n",
      "     ---- ----------------------------------- 7.2/70.9 MB 50.7 MB/s eta 0:00:02\n",
      "     ----- ---------------------------------- 9.5/70.9 MB 50.9 MB/s eta 0:00:02\n",
      "     ------ -------------------------------- 11.6/70.9 MB 50.4 MB/s eta 0:00:02\n",
      "     -------- ------------------------------ 14.7/70.9 MB 54.7 MB/s eta 0:00:02\n",
      "     --------- ----------------------------- 17.2/70.9 MB 54.7 MB/s eta 0:00:01\n",
      "     ---------- ---------------------------- 19.7/70.9 MB 54.4 MB/s eta 0:00:01\n",
      "     ------------ -------------------------- 22.2/70.9 MB 54.4 MB/s eta 0:00:01\n",
      "     ------------- ------------------------- 24.8/70.9 MB 54.4 MB/s eta 0:00:01\n",
      "     -------------- ------------------------ 27.1/70.9 MB 54.4 MB/s eta 0:00:01\n",
      "     ---------------- ---------------------- 29.4/70.9 MB 50.4 MB/s eta 0:00:01\n",
      "     ----------------- --------------------- 31.8/70.9 MB 50.4 MB/s eta 0:00:01\n",
      "     ------------------ -------------------- 34.1/70.9 MB 50.4 MB/s eta 0:00:01\n",
      "     ------------------- ------------------- 36.3/70.9 MB 46.7 MB/s eta 0:00:01\n",
      "     --------------------- ----------------- 38.7/70.9 MB 50.4 MB/s eta 0:00:01\n",
      "     --------------------- ----------------- 38.8/70.9 MB 50.4 MB/s eta 0:00:01\n",
      "     --------------------- ----------------- 38.8/70.9 MB 50.4 MB/s eta 0:00:01\n",
      "     ---------------------- ---------------- 40.5/70.9 MB 32.7 MB/s eta 0:00:01\n",
      "     ----------------------- --------------- 43.3/70.9 MB 32.8 MB/s eta 0:00:01\n",
      "     ------------------------- ------------- 45.8/70.9 MB 34.4 MB/s eta 0:00:01\n",
      "     -------------------------- ------------ 48.4/70.9 MB 34.4 MB/s eta 0:00:01\n",
      "     ---------------------------- ---------- 51.1/70.9 MB 54.7 MB/s eta 0:00:01\n",
      "     ----------------------------- --------- 53.6/70.9 MB 54.4 MB/s eta 0:00:01\n",
      "     ------------------------------ -------- 56.2/70.9 MB 54.4 MB/s eta 0:00:01\n",
      "     -------------------------------- ------ 58.6/70.9 MB 54.4 MB/s eta 0:00:01\n",
      "     --------------------------------- ----- 60.9/70.9 MB 50.1 MB/s eta 0:00:01\n",
      "     ---------------------------------- ---- 63.4/70.9 MB 50.4 MB/s eta 0:00:01\n",
      "     ----------------------------------- --- 65.3/70.9 MB 50.4 MB/s eta 0:00:01\n",
      "     ------------------------------------- - 67.7/70.9 MB 46.7 MB/s eta 0:00:01\n",
      "     --------------------------------------  70.2/70.9 MB 46.7 MB/s eta 0:00:01\n",
      "     --------------------------------------  70.9/70.9 MB 46.7 MB/s eta 0:00:01\n",
      "     --------------------------------------  70.9/70.9 MB 46.7 MB/s eta 0:00:01\n",
      "     --------------------------------------  70.9/70.9 MB 46.7 MB/s eta 0:00:01\n",
      "     --------------------------------------  70.9/70.9 MB 46.7 MB/s eta 0:00:01\n",
      "     --------------------------------------  70.9/70.9 MB 46.7 MB/s eta 0:00:01\n",
      "     --------------------------------------  70.9/70.9 MB 46.7 MB/s eta 0:00:01\n",
      "     --------------------------------------  70.9/70.9 MB 46.7 MB/s eta 0:00:01\n",
      "     --------------------------------------  70.9/70.9 MB 46.7 MB/s eta 0:00:01\n",
      "     --------------------------------------  70.9/70.9 MB 46.7 MB/s eta 0:00:01\n",
      "     --------------------------------------- 70.9/70.9 MB 14.9 MB/s eta 0:00:00\n",
      "Requirement already satisfied: scipy in c:\\users\\user\\miniconda3\\envs\\ds_study\\lib\\site-packages (from xgboost) (1.9.3)\n",
      "Requirement already satisfied: numpy in c:\\users\\user\\miniconda3\\envs\\ds_study\\lib\\site-packages (from xgboost) (1.24.3)\n",
      "Installing collected packages: xgboost\n",
      "Successfully installed xgboost-1.7.6\n"
     ]
    }
   ],
   "source": [
    "# ! pip install xgboost"
   ]
  },
  {
   "attachments": {},
   "cell_type": "markdown",
   "metadata": {},
   "source": [
    "### XGBoost\n",
    "\n",
    "* parameters\n",
    "  - nthread: CPU 실행 스레드 개수 조정 (default = 전체 스레드 사용)\n",
    "  - eta: GBM 학습률\n",
    "  - num_boost_rounds: n_estimators와 같은 파라미터\n",
    "  - max_depth"
   ]
  },
  {
   "cell_type": "code",
   "execution_count": 24,
   "metadata": {},
   "outputs": [],
   "source": [
    "# XGBoost는 0부터 순차적으로 데이터 결과 값이 있어야 하므로 1~6까지의 결과가 있는 y_train 변경\n",
    "# 참고: https://stackoverflow.com/questions/71996617/invalid-classes-inferred-from-unique-values-of-y-expected-0-1-2-3-4-5-got\n",
    "\n",
    "from sklearn.preprocessing import LabelEncoder\n",
    "le = LabelEncoder()\n",
    "y_train_le = le.fit_transform(y_train)\n",
    "y_test_le = le.fit_transform(y_test)"
   ]
  },
  {
   "cell_type": "code",
   "execution_count": 25,
   "metadata": {},
   "outputs": [
    {
     "name": "stdout",
     "output_type": "stream",
     "text": [
      "Fit time :  52.64647603034973\n"
     ]
    }
   ],
   "source": [
    "# XGBoost 사용해보기\n",
    "\n",
    "from xgboost import XGBClassifier\n",
    "\n",
    "start_time = time.time()\n",
    "\n",
    "xgb = XGBClassifier(n_estimators=400, learning_rate = 0.1, max_depth = 3)\n",
    "xgb.fit(X_train.values, y_train_le)\n",
    "print('Fit time : ', time.time()-start_time)"
   ]
  },
  {
   "cell_type": "code",
   "execution_count": 28,
   "metadata": {},
   "outputs": [
    {
     "data": {
      "text/plain": [
       "0.9494401085850017"
      ]
     },
     "execution_count": 28,
     "metadata": {},
     "output_type": "execute_result"
    }
   ],
   "source": [
    "accuracy_score(y_test_le, xgb.predict(X_test.values))"
   ]
  },
  {
   "cell_type": "code",
   "execution_count": 30,
   "metadata": {},
   "outputs": [
    {
     "name": "stdout",
     "output_type": "stream",
     "text": [
      "[0]\tvalidation_0-mlogloss:1.58932\n",
      "[1]\tvalidation_0-mlogloss:1.43267\n",
      "[2]\tvalidation_0-mlogloss:1.30322\n",
      "[3]\tvalidation_0-mlogloss:1.19383\n",
      "[4]\tvalidation_0-mlogloss:1.10067\n",
      "[5]\tvalidation_0-mlogloss:1.01957\n",
      "[6]\tvalidation_0-mlogloss:0.94662\n",
      "[7]\tvalidation_0-mlogloss:0.88249\n",
      "[8]\tvalidation_0-mlogloss:0.82727\n",
      "[9]\tvalidation_0-mlogloss:0.77601\n",
      "[10]\tvalidation_0-mlogloss:0.72925\n",
      "[11]\tvalidation_0-mlogloss:0.68936\n",
      "[12]\tvalidation_0-mlogloss:0.65128\n",
      "[13]\tvalidation_0-mlogloss:0.61844\n",
      "[14]\tvalidation_0-mlogloss:0.58748\n",
      "[15]\tvalidation_0-mlogloss:0.55894\n",
      "[16]\tvalidation_0-mlogloss:0.53410\n",
      "[17]\tvalidation_0-mlogloss:0.50956\n",
      "[18]\tvalidation_0-mlogloss:0.48868\n",
      "[19]\tvalidation_0-mlogloss:0.46809\n",
      "[20]\tvalidation_0-mlogloss:0.45075\n",
      "[21]\tvalidation_0-mlogloss:0.43385\n",
      "[22]\tvalidation_0-mlogloss:0.41768\n",
      "[23]\tvalidation_0-mlogloss:0.40316\n",
      "[24]\tvalidation_0-mlogloss:0.38937\n",
      "[25]\tvalidation_0-mlogloss:0.37645\n",
      "[26]\tvalidation_0-mlogloss:0.36394\n",
      "[27]\tvalidation_0-mlogloss:0.35407\n",
      "[28]\tvalidation_0-mlogloss:0.34354\n",
      "[29]\tvalidation_0-mlogloss:0.33333\n",
      "[30]\tvalidation_0-mlogloss:0.32486\n",
      "[31]\tvalidation_0-mlogloss:0.31667\n",
      "[32]\tvalidation_0-mlogloss:0.30627\n",
      "[33]\tvalidation_0-mlogloss:0.29953\n",
      "[34]\tvalidation_0-mlogloss:0.29340\n",
      "[35]\tvalidation_0-mlogloss:0.28661\n",
      "[36]\tvalidation_0-mlogloss:0.27952\n",
      "[37]\tvalidation_0-mlogloss:0.27353\n",
      "[38]\tvalidation_0-mlogloss:0.26796\n",
      "[39]\tvalidation_0-mlogloss:0.26233\n",
      "[40]\tvalidation_0-mlogloss:0.25772\n",
      "[41]\tvalidation_0-mlogloss:0.25279\n",
      "[42]\tvalidation_0-mlogloss:0.24838\n",
      "[43]\tvalidation_0-mlogloss:0.24271\n",
      "[44]\tvalidation_0-mlogloss:0.23839\n",
      "[45]\tvalidation_0-mlogloss:0.23486\n",
      "[46]\tvalidation_0-mlogloss:0.23099\n",
      "[47]\tvalidation_0-mlogloss:0.22687\n",
      "[48]\tvalidation_0-mlogloss:0.22315\n",
      "[49]\tvalidation_0-mlogloss:0.22017\n",
      "[50]\tvalidation_0-mlogloss:0.21749\n",
      "[51]\tvalidation_0-mlogloss:0.21397\n",
      "[52]\tvalidation_0-mlogloss:0.21145\n",
      "[53]\tvalidation_0-mlogloss:0.20966\n",
      "[54]\tvalidation_0-mlogloss:0.20670\n",
      "[55]\tvalidation_0-mlogloss:0.20510\n",
      "[56]\tvalidation_0-mlogloss:0.20277\n",
      "[57]\tvalidation_0-mlogloss:0.19985\n",
      "[58]\tvalidation_0-mlogloss:0.19818\n",
      "[59]\tvalidation_0-mlogloss:0.19585\n",
      "[60]\tvalidation_0-mlogloss:0.19491\n",
      "[61]\tvalidation_0-mlogloss:0.19256\n",
      "[62]\tvalidation_0-mlogloss:0.19033\n",
      "[63]\tvalidation_0-mlogloss:0.18873\n",
      "[64]\tvalidation_0-mlogloss:0.18706\n",
      "[65]\tvalidation_0-mlogloss:0.18500\n",
      "[66]\tvalidation_0-mlogloss:0.18398\n",
      "[67]\tvalidation_0-mlogloss:0.18175\n",
      "[68]\tvalidation_0-mlogloss:0.18022\n",
      "[69]\tvalidation_0-mlogloss:0.17856\n",
      "[70]\tvalidation_0-mlogloss:0.17689\n",
      "[71]\tvalidation_0-mlogloss:0.17568\n",
      "[72]\tvalidation_0-mlogloss:0.17435\n",
      "[73]\tvalidation_0-mlogloss:0.17259\n",
      "[74]\tvalidation_0-mlogloss:0.17145\n",
      "[75]\tvalidation_0-mlogloss:0.17088\n",
      "[76]\tvalidation_0-mlogloss:0.16982\n",
      "[77]\tvalidation_0-mlogloss:0.16823\n",
      "[78]\tvalidation_0-mlogloss:0.16665\n",
      "[79]\tvalidation_0-mlogloss:0.16537\n",
      "[80]\tvalidation_0-mlogloss:0.16412\n",
      "[81]\tvalidation_0-mlogloss:0.16253\n",
      "[82]\tvalidation_0-mlogloss:0.16184\n",
      "[83]\tvalidation_0-mlogloss:0.16128\n",
      "[84]\tvalidation_0-mlogloss:0.15987\n",
      "[85]\tvalidation_0-mlogloss:0.15909\n",
      "[86]\tvalidation_0-mlogloss:0.15831\n",
      "[87]\tvalidation_0-mlogloss:0.15767\n",
      "[88]\tvalidation_0-mlogloss:0.15719\n",
      "[89]\tvalidation_0-mlogloss:0.15679\n",
      "[90]\tvalidation_0-mlogloss:0.15637\n",
      "[91]\tvalidation_0-mlogloss:0.15583\n",
      "[92]\tvalidation_0-mlogloss:0.15525\n",
      "[93]\tvalidation_0-mlogloss:0.15431\n",
      "[94]\tvalidation_0-mlogloss:0.15365\n",
      "[95]\tvalidation_0-mlogloss:0.15294\n",
      "[96]\tvalidation_0-mlogloss:0.15271\n",
      "[97]\tvalidation_0-mlogloss:0.15216\n",
      "[98]\tvalidation_0-mlogloss:0.15130\n",
      "[99]\tvalidation_0-mlogloss:0.15023\n",
      "[100]\tvalidation_0-mlogloss:0.15017\n",
      "[101]\tvalidation_0-mlogloss:0.14987\n",
      "[102]\tvalidation_0-mlogloss:0.14935\n",
      "[103]\tvalidation_0-mlogloss:0.14943\n",
      "[104]\tvalidation_0-mlogloss:0.14863\n",
      "[105]\tvalidation_0-mlogloss:0.14813\n",
      "[106]\tvalidation_0-mlogloss:0.14792\n",
      "[107]\tvalidation_0-mlogloss:0.14751\n",
      "[108]\tvalidation_0-mlogloss:0.14676\n",
      "[109]\tvalidation_0-mlogloss:0.14572\n",
      "[110]\tvalidation_0-mlogloss:0.14577\n",
      "[111]\tvalidation_0-mlogloss:0.14491\n",
      "[112]\tvalidation_0-mlogloss:0.14464\n",
      "[113]\tvalidation_0-mlogloss:0.14423\n",
      "[114]\tvalidation_0-mlogloss:0.14428\n",
      "[115]\tvalidation_0-mlogloss:0.14429\n",
      "[116]\tvalidation_0-mlogloss:0.14386\n",
      "[117]\tvalidation_0-mlogloss:0.14333\n",
      "[118]\tvalidation_0-mlogloss:0.14346\n",
      "[119]\tvalidation_0-mlogloss:0.14223\n",
      "[120]\tvalidation_0-mlogloss:0.14232\n",
      "[121]\tvalidation_0-mlogloss:0.14201\n",
      "[122]\tvalidation_0-mlogloss:0.14159\n",
      "[123]\tvalidation_0-mlogloss:0.14149\n",
      "[124]\tvalidation_0-mlogloss:0.14080\n",
      "[125]\tvalidation_0-mlogloss:0.14059\n",
      "[126]\tvalidation_0-mlogloss:0.14054\n",
      "[127]\tvalidation_0-mlogloss:0.14050\n",
      "[128]\tvalidation_0-mlogloss:0.14095\n",
      "[129]\tvalidation_0-mlogloss:0.14090\n",
      "[130]\tvalidation_0-mlogloss:0.14069\n",
      "[131]\tvalidation_0-mlogloss:0.14029\n",
      "[132]\tvalidation_0-mlogloss:0.14013\n",
      "[133]\tvalidation_0-mlogloss:0.13989\n",
      "[134]\tvalidation_0-mlogloss:0.13948\n",
      "[135]\tvalidation_0-mlogloss:0.13883\n",
      "[136]\tvalidation_0-mlogloss:0.13937\n",
      "[137]\tvalidation_0-mlogloss:0.13930\n",
      "[138]\tvalidation_0-mlogloss:0.13918\n",
      "[139]\tvalidation_0-mlogloss:0.13908\n",
      "[140]\tvalidation_0-mlogloss:0.13906\n",
      "[141]\tvalidation_0-mlogloss:0.13978\n",
      "[142]\tvalidation_0-mlogloss:0.13942\n",
      "[143]\tvalidation_0-mlogloss:0.13911\n",
      "[144]\tvalidation_0-mlogloss:0.13848\n",
      "[145]\tvalidation_0-mlogloss:0.13840\n",
      "[146]\tvalidation_0-mlogloss:0.13869\n",
      "[147]\tvalidation_0-mlogloss:0.13870\n",
      "[148]\tvalidation_0-mlogloss:0.13882\n",
      "[149]\tvalidation_0-mlogloss:0.13930\n",
      "[150]\tvalidation_0-mlogloss:0.13923\n",
      "[151]\tvalidation_0-mlogloss:0.13938\n",
      "[152]\tvalidation_0-mlogloss:0.13915\n",
      "[153]\tvalidation_0-mlogloss:0.13907\n",
      "[154]\tvalidation_0-mlogloss:0.13880\n",
      "Fit time :  32.990400314331055\n"
     ]
    }
   ],
   "source": [
    "# 조기 종료 조건을 달아주기 (early_stopping)\n",
    "# early stopping rounds => 해당 round 만큼 학습하는 동안 성능이 비슷하면 더 이상 개선할 필요 없다고 판단, 조기 종료\n",
    "\n",
    "evals = [(X_test.values, y_test_le)] # XGBoost는 내부적으로 검증이 가능하므로 검증할 데이터 선언\n",
    "\n",
    "start_time = time.time()\n",
    "xgb = XGBClassifier(n_estimators=400, learning_rate=0.1, max_depth=3)\n",
    "xgb.fit(X_train.values, y_train_le, early_stopping_rounds = 10, eval_set = evals)\n",
    "print('Fit time : ', time.time()-start_time)"
   ]
  },
  {
   "cell_type": "code",
   "execution_count": 32,
   "metadata": {},
   "outputs": [
    {
     "data": {
      "text/plain": [
       "0.9419748897183576"
      ]
     },
     "execution_count": 32,
     "metadata": {},
     "output_type": "execute_result"
    }
   ],
   "source": [
    "accuracy_score(y_test_le, xgb.predict(X_test.values))"
   ]
  },
  {
   "attachments": {},
   "cell_type": "markdown",
   "metadata": {},
   "source": [
    "## LGBM"
   ]
  },
  {
   "cell_type": "code",
   "execution_count": 33,
   "metadata": {},
   "outputs": [
    {
     "name": "stdout",
     "output_type": "stream",
     "text": [
      "Requirement already satisfied: lightgbm in c:\\users\\user\\miniconda3\\envs\\ds_study\\lib\\site-packages (4.0.0)\n",
      "Requirement already satisfied: numpy in c:\\users\\user\\miniconda3\\envs\\ds_study\\lib\\site-packages (from lightgbm) (1.24.3)\n",
      "Requirement already satisfied: scipy in c:\\users\\user\\miniconda3\\envs\\ds_study\\lib\\site-packages (from lightgbm) (1.9.3)\n"
     ]
    }
   ],
   "source": [
    "# !pip install lightgbm"
   ]
  },
  {
   "cell_type": "code",
   "execution_count": 33,
   "metadata": {},
   "outputs": [
    {
     "name": "stdout",
     "output_type": "stream",
     "text": [
      "[LightGBM] [Warning] Auto-choosing col-wise multi-threading, the overhead of testing was 0.014694 seconds.\n",
      "You can set `force_col_wise=true` to remove the overhead.\n",
      "[LightGBM] [Info] Total Bins 140170\n",
      "[LightGBM] [Info] Number of data points in the train set: 7352, number of used features: 561\n",
      "[LightGBM] [Info] Start training from score -1.791216\n",
      "[LightGBM] [Info] Start training from score -1.924514\n",
      "[LightGBM] [Info] Start training from score -2.009071\n",
      "[LightGBM] [Info] Start training from score -1.743436\n",
      "[LightGBM] [Info] Start training from score -1.677246\n",
      "[LightGBM] [Info] Start training from score -1.653513\n",
      "[LightGBM] [Warning] No further splits with positive gain, best gain: -inf\n",
      "Training until validation scores don't improve for 20 rounds\n",
      "Early stopping, best iteration is:\n",
      "[38]\tvalid_0's multi_logloss: 0.233106\n",
      "Fit time:  5.814281940460205\n"
     ]
    }
   ],
   "source": [
    "from lightgbm import LGBMClassifier\n",
    "\n",
    "start_time = time.time()\n",
    "\n",
    "evals = [(X_test.values, y_test)]\n",
    "\n",
    "lgbm = LGBMClassifier(n_estimators=400, early_stopping_round=20)\n",
    "lgbm.fit(X_train.values, y_train, eval_set=evals)\n",
    "print('Fit time: ', time.time() - start_time)"
   ]
  },
  {
   "cell_type": "code",
   "execution_count": 34,
   "metadata": {},
   "outputs": [
    {
     "data": {
      "text/plain": [
       "0.9260264675941635"
      ]
     },
     "execution_count": 34,
     "metadata": {},
     "output_type": "execute_result"
    }
   ],
   "source": [
    "accuracy_score(y_test, lgbm.predict(X_test.values))"
   ]
  },
  {
   "cell_type": "code",
   "execution_count": null,
   "metadata": {},
   "outputs": [],
   "source": []
  }
 ],
 "metadata": {
  "kernelspec": {
   "display_name": "ds_study",
   "language": "python",
   "name": "python3"
  },
  "language_info": {
   "codemirror_mode": {
    "name": "ipython",
    "version": 3
   },
   "file_extension": ".py",
   "mimetype": "text/x-python",
   "name": "python",
   "nbconvert_exporter": "python",
   "pygments_lexer": "ipython3",
   "version": "3.8.16"
  },
  "orig_nbformat": 4
 },
 "nbformat": 4,
 "nbformat_minor": 2
}
